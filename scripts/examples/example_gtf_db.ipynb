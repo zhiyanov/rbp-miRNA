{
 "cells": [
  {
   "cell_type": "code",
   "execution_count": 1,
   "id": "1ec18819",
   "metadata": {},
   "outputs": [],
   "source": [
    "import gffutils\n",
    "import pandas as pd\n",
    "import tqdm"
   ]
  },
  {
   "cell_type": "code",
   "execution_count": 4,
   "id": "0ba98c0f",
   "metadata": {},
   "outputs": [],
   "source": [
    "gene_db = gffutils.FeatureDB('../genome/Homo_sapiens.GRCh38.96.db')\n",
    "clip_db = pd.read_csv(\"../clip/clip_db.tsv\", sep=\"\\t\")"
   ]
  },
  {
   "cell_type": "code",
   "execution_count": 3,
   "id": "de420bc2",
   "metadata": {},
   "outputs": [
    {
     "data": {
      "text/plain": [
       "Index(['sample', 'protein', 'chr', 'start', 'stop', 'strand',\n",
       "       'log2(fold-enrichment)', '-log10(p-value)'],\n",
       "      dtype='object')"
      ]
     },
     "execution_count": 3,
     "metadata": {},
     "output_type": "execute_result"
    }
   ],
   "source": [
    "clip_db.columns"
   ]
  },
  {
   "cell_type": "code",
   "execution_count": 4,
   "id": "25da1293",
   "metadata": {},
   "outputs": [
    {
     "name": "stdout",
     "output_type": "stream",
     "text": [
      "130\n",
      "425289\n"
     ]
    }
   ],
   "source": [
    "clip_proteins = list(set(clip_db[\"protein\"]))\n",
    "print(len(clip_proteins))\n",
    "clip_regions = [(f\"{row['chr']}:{row['start']}-{row['stop']}\", row[\"strand\"]) for i, row in clip_db.iterrows()]\n",
    "print(len(clip_regions))"
   ]
  },
  {
   "cell_type": "code",
   "execution_count": 5,
   "id": "a0db28c3",
   "metadata": {},
   "outputs": [
    {
     "name": "stdout",
     "output_type": "stream",
     "text": [
      "CREATE TABLE features (\n",
      "    id text,\n",
      "    seqid text,\n",
      "    source text,\n",
      "    featuretype text,\n",
      "    start int,\n",
      "    end int,\n",
      "    score text,\n",
      "    strand text,\n",
      "    frame text,\n",
      "    attributes text,\n",
      "    extra text,\n",
      "    bin int,\n",
      "    primary key (id)\n",
      "    )\n",
      "CREATE TABLE relations (\n",
      "    parent text,\n",
      "    child text,\n",
      "    level int,\n",
      "    primary key (parent, child, level)\n",
      "    )\n",
      "CREATE TABLE meta (\n",
      "    dialect text,\n",
      "    version text\n",
      "    )\n",
      "CREATE TABLE directives (\n",
      "    directive text\n",
      "    )\n",
      "CREATE TABLE autoincrements (\n",
      "    base text,\n",
      "    n int,\n",
      "    primary key (base)\n",
      "    )\n",
      "CREATE TABLE duplicates (\n",
      "    idspecid text,\n",
      "    newid text,\n",
      "    primary key (newid)\n",
      "    )\n",
      "CREATE INDEX relationsparent ON relations (parent)\n",
      "CREATE INDEX relationschild ON relations (child)\n",
      "CREATE INDEX featuretype ON features (featuretype)\n",
      "CREATE INDEX seqidstartend ON features (seqid, start, end)\n",
      "CREATE INDEX seqidstartendstrand ON features (seqid, start, end, strand)\n",
      "CREATE TABLE sqlite_stat1(tbl,idx,stat)\n"
     ]
    }
   ],
   "source": [
    "print(gene_db.schema())"
   ]
  },
  {
   "cell_type": "code",
   "execution_count": 40,
   "id": "07421798",
   "metadata": {},
   "outputs": [
    {
     "name": "stdout",
     "output_type": "stream",
     "text": [
      "('{\"gene_id\":[\"ENSG00000223972\"],\"gene_version\":[\"5\"],\"transcript_id\":[\"ENST00000456328\"],\"transcript_version\":[\"2\"],\"gene_name\":[\"DDX11L1\"],\"gene_source\":[\"havana\"],\"gene_biotype\":[\"transcribed_unprocessed_pseudogene\"],\"transcript_name\":[\"DDX11L1-202\"],\"transcript_source\":[\"havana\"],\"transcript_biotype\":[\"processed_transcript\"],\"tag\":[\"basic\"],\"transcript_support_level\":[\"1\"]}',)\n"
     ]
    }
   ],
   "source": [
    "print(gene_db.execute(f'''\n",
    "    SELECT attributes FROM features\n",
    "    WHERE (featuretype=='transcript')\n",
    "''').fetchone()[:])"
   ]
  },
  {
   "cell_type": "code",
   "execution_count": 10,
   "id": "35e857ca",
   "metadata": {},
   "outputs": [
    {
     "data": {
      "text/plain": [
       "[<Feature transcript (1:11869-14409[+]) at 0x7f7a60b08790>,\n",
       " <Feature transcript (1:12010-13670[+]) at 0x7f799f7bea60>,\n",
       " <Feature transcript (1:14404-29570[-]) at 0x7f799f7be7c0>]"
      ]
     },
     "execution_count": 10,
     "metadata": {},
     "output_type": "execute_result"
    }
   ],
   "source": [
    "list(gene_db.region(region=\"1:11869-14409\", featuretype=\"transcript\"))"
   ]
  },
  {
   "cell_type": "code",
   "execution_count": 54,
   "id": "de7284b5",
   "metadata": {},
   "outputs": [
    {
     "data": {
      "text/plain": [
       "['CDS',\n",
       " 'Selenocysteine',\n",
       " 'exon',\n",
       " 'five_prime_utr',\n",
       " 'gene',\n",
       " 'start_codon',\n",
       " 'stop_codon',\n",
       " 'three_prime_utr',\n",
       " 'transcript']"
      ]
     },
     "execution_count": 54,
     "metadata": {},
     "output_type": "execute_result"
    }
   ],
   "source": [
    "list(gene_db.featuretypes())"
   ]
  },
  {
   "cell_type": "code",
   "execution_count": 24,
   "id": "35db32a4",
   "metadata": {},
   "outputs": [
    {
     "name": "stdout",
     "output_type": "stream",
     "text": [
      "1\thavana\tfive_prime_utr\t65419\t65433\t.\t+\t.\tgene_id \"ENSG00000186092\"; gene_version \"6\"; transcript_id \"ENST00000641515\"; transcript_version \"2\"; gene_name \"OR4F5\"; gene_source \"ensembl_havana\"; gene_biotype \"protein_coding\"; transcript_name \"OR4F5-202\"; transcript_source \"havana\"; transcript_biotype \"protein_coding\"; tag \"basic\";\n"
     ]
    }
   ],
   "source": [
    "for exon in gene_db.all_features(featuretype=\"five_prime_utr\"):\n",
    "    print(exon)\n",
    "    break\n",
    "# for exon in gene_db.region(start=11869, end=12227, featuretype=\"exon\"):\n",
    "#     print(exon)"
   ]
  },
  {
   "cell_type": "code",
   "execution_count": 9,
   "id": "ac76c7bd",
   "metadata": {},
   "outputs": [
    {
     "name": "stderr",
     "output_type": "stream",
     "text": [
      "  0%|          | 1670/425289 [01:32<6:31:24, 18.04it/s]\n"
     ]
    },
    {
     "ename": "KeyboardInterrupt",
     "evalue": "",
     "output_type": "error",
     "traceback": [
      "\u001b[0;31m---------------------------------------------------------------------------\u001b[0m",
      "\u001b[0;31mKeyboardInterrupt\u001b[0m                         Traceback (most recent call last)",
      "\u001b[0;32m<ipython-input-9-3a8d9c4042a6>\u001b[0m in \u001b[0;36m<module>\u001b[0;34m\u001b[0m\n\u001b[1;32m      5\u001b[0m \u001b[0;32mfor\u001b[0m \u001b[0mregion\u001b[0m \u001b[0;32min\u001b[0m \u001b[0mtqderator\u001b[0m\u001b[0;34m:\u001b[0m\u001b[0;34m\u001b[0m\u001b[0;34m\u001b[0m\u001b[0m\n\u001b[1;32m      6\u001b[0m     \u001b[0;31m# for transcript in gene_db.region(region=region[0], featuretype=\"transcript\", strand=region[1]):\u001b[0m\u001b[0;34m\u001b[0m\u001b[0;34m\u001b[0m\u001b[0;34m\u001b[0m\u001b[0m\n\u001b[0;32m----> 7\u001b[0;31m     \u001b[0;32mfor\u001b[0m \u001b[0mtranscript\u001b[0m \u001b[0;32min\u001b[0m \u001b[0mgene_db\u001b[0m\u001b[0;34m.\u001b[0m\u001b[0mregion\u001b[0m\u001b[0;34m(\u001b[0m\u001b[0mregion\u001b[0m\u001b[0;34m=\u001b[0m\u001b[0mregion\u001b[0m\u001b[0;34m[\u001b[0m\u001b[0;36m0\u001b[0m\u001b[0;34m]\u001b[0m\u001b[0;34m,\u001b[0m \u001b[0mfeaturetype\u001b[0m\u001b[0;34m=\u001b[0m\u001b[0;34m\"exone\"\u001b[0m\u001b[0;34m,\u001b[0m \u001b[0mstrand\u001b[0m\u001b[0;34m=\u001b[0m\u001b[0mregion\u001b[0m\u001b[0;34m[\u001b[0m\u001b[0;36m1\u001b[0m\u001b[0;34m]\u001b[0m\u001b[0;34m)\u001b[0m\u001b[0;34m:\u001b[0m\u001b[0;34m\u001b[0m\u001b[0;34m\u001b[0m\u001b[0m\n\u001b[0m\u001b[1;32m      8\u001b[0m         \u001b[0mreg_start\u001b[0m\u001b[0;34m,\u001b[0m \u001b[0mreg_stop\u001b[0m \u001b[0;34m=\u001b[0m \u001b[0;34m(\u001b[0m\u001b[0mint\u001b[0m\u001b[0;34m(\u001b[0m\u001b[0ms\u001b[0m\u001b[0;34m)\u001b[0m \u001b[0;32mfor\u001b[0m \u001b[0ms\u001b[0m \u001b[0;32min\u001b[0m \u001b[0mregion\u001b[0m\u001b[0;34m[\u001b[0m\u001b[0;36m0\u001b[0m\u001b[0;34m]\u001b[0m\u001b[0;34m.\u001b[0m\u001b[0msplit\u001b[0m\u001b[0;34m(\u001b[0m\u001b[0;34m\":\"\u001b[0m\u001b[0;34m)\u001b[0m\u001b[0;34m[\u001b[0m\u001b[0;34m-\u001b[0m\u001b[0;36m1\u001b[0m\u001b[0;34m]\u001b[0m\u001b[0;34m.\u001b[0m\u001b[0msplit\u001b[0m\u001b[0;34m(\u001b[0m\u001b[0;34m\"-\"\u001b[0m\u001b[0;34m)\u001b[0m\u001b[0;34m)\u001b[0m\u001b[0;34m\u001b[0m\u001b[0;34m\u001b[0m\u001b[0m\n\u001b[1;32m      9\u001b[0m         \u001b[0;31m# if (reg_start < transcript.start) or (reg_stop > transcript.stop):\u001b[0m\u001b[0;34m\u001b[0m\u001b[0;34m\u001b[0m\u001b[0;34m\u001b[0m\u001b[0m\n",
      "\u001b[0;32m/usr/local/lib/python3.8/dist-packages/gffutils/interface.py\u001b[0m in \u001b[0;36mregion\u001b[0;34m(self, region, seqid, start, end, strand, featuretype, completely_within)\u001b[0m\n\u001b[1;32m    796\u001b[0m             \u001b[0;34m\"region\"\u001b[0m\u001b[0;34m:\u001b[0m \u001b[0mregion\u001b[0m\u001b[0;34m,\u001b[0m\u001b[0;34m\u001b[0m\u001b[0;34m\u001b[0m\u001b[0m\n\u001b[1;32m    797\u001b[0m         }\n\u001b[0;32m--> 798\u001b[0;31m         \u001b[0mc\u001b[0m\u001b[0;34m.\u001b[0m\u001b[0mexecute\u001b[0m\u001b[0;34m(\u001b[0m\u001b[0mquery\u001b[0m\u001b[0;34m,\u001b[0m \u001b[0mtuple\u001b[0m\u001b[0;34m(\u001b[0m\u001b[0margs\u001b[0m\u001b[0;34m)\u001b[0m\u001b[0;34m)\u001b[0m\u001b[0;34m\u001b[0m\u001b[0;34m\u001b[0m\u001b[0m\n\u001b[0m\u001b[1;32m    799\u001b[0m         \u001b[0;32mfor\u001b[0m \u001b[0mi\u001b[0m \u001b[0;32min\u001b[0m \u001b[0mc\u001b[0m\u001b[0;34m:\u001b[0m\u001b[0;34m\u001b[0m\u001b[0;34m\u001b[0m\u001b[0m\n\u001b[1;32m    800\u001b[0m             \u001b[0;32myield\u001b[0m \u001b[0mself\u001b[0m\u001b[0;34m.\u001b[0m\u001b[0m_feature_returner\u001b[0m\u001b[0;34m(\u001b[0m\u001b[0;34m**\u001b[0m\u001b[0mi\u001b[0m\u001b[0;34m)\u001b[0m\u001b[0;34m\u001b[0m\u001b[0;34m\u001b[0m\u001b[0m\n",
      "\u001b[0;31mKeyboardInterrupt\u001b[0m: "
     ]
    }
   ],
   "source": [
    "transcripts = []\n",
    "# tqderator = tqdm.tqdm(filter(lambda args: args[0] < 3,  enumerate(clip_regions)))\n",
    "tqderator = tqdm.tqdm(clip_regions)\n",
    "# for i, region in tqderator:\n",
    "for region in tqderator:\n",
    "    # for transcript in gene_db.region(region=region[0], featuretype=\"transcript\", strand=region[1]):\n",
    "    for transcript in gene_db.region(region=region[0], featuretype=\"exone\", strand=region[1]):\n",
    "        reg_start, reg_stop = (int(s) for s in region[0].split(\":\")[-1].split(\"-\"))\n",
    "        # if (reg_start < transcript.start) or (reg_stop > transcript.stop):\n",
    "        #     continue\n",
    "        transcripts.append((transcript.id, region))\n",
    "        tqderator.set_description(len(transcripts))"
   ]
  },
  {
   "cell_type": "code",
   "execution_count": 47,
   "id": "cfbc70c7",
   "metadata": {},
   "outputs": [
    {
     "data": {
      "text/plain": [
       "10"
      ]
     },
     "execution_count": 47,
     "metadata": {},
     "output_type": "execute_result"
    }
   ],
   "source": [
    "len(transcripts)"
   ]
  },
  {
   "cell_type": "code",
   "execution_count": 9,
   "id": "97935707",
   "metadata": {},
   "outputs": [
    {
     "ename": "AttributeError",
     "evalue": "'FeatureDB' object has no attribute 'id'",
     "output_type": "error",
     "traceback": [
      "\u001b[0;31m---------------------------------------------------------------------------\u001b[0m",
      "\u001b[0;31mAttributeError\u001b[0m                            Traceback (most recent call last)",
      "\u001b[0;32m<ipython-input-9-a3c0c08ae612>\u001b[0m in \u001b[0;36m<module>\u001b[0;34m\u001b[0m\n\u001b[0;32m----> 1\u001b[0;31m \u001b[0mgene_db\u001b[0m\u001b[0;34m.\u001b[0m\u001b[0mid\u001b[0m\u001b[0;34m\u001b[0m\u001b[0;34m\u001b[0m\u001b[0m\n\u001b[0m",
      "\u001b[0;31mAttributeError\u001b[0m: 'FeatureDB' object has no attribute 'id'"
     ]
    }
   ],
   "source": [
    "print(gene_db.execute(f'''\n",
    "    SELECT attributes FROM features\n",
    "    WHERE (featuretype=='transcript')\n",
    "''').fetchone()[:])"
   ]
  },
  {
   "cell_type": "code",
   "execution_count": 10,
   "id": "ae1af832",
   "metadata": {},
   "outputs": [
    {
     "ename": "KeyboardInterrupt",
     "evalue": "",
     "output_type": "error",
     "traceback": [
      "\u001b[0;31m---------------------------------------------------------------------------\u001b[0m",
      "\u001b[0;31mKeyboardInterrupt\u001b[0m                         Traceback (most recent call last)",
      "\u001b[0;32m<ipython-input-10-d4fbc32455f2>\u001b[0m in \u001b[0;36m<module>\u001b[0;34m\u001b[0m\n\u001b[0;32m----> 1\u001b[0;31m \u001b[0mlist\u001b[0m\u001b[0;34m(\u001b[0m\u001b[0mgene_db\u001b[0m\u001b[0;34m.\u001b[0m\u001b[0mall_features\u001b[0m\u001b[0;34m(\u001b[0m\u001b[0;34m)\u001b[0m\u001b[0;34m)\u001b[0m\u001b[0;34m\u001b[0m\u001b[0;34m\u001b[0m\u001b[0m\n\u001b[0m",
      "\u001b[0;32m/usr/local/lib/python3.8/dist-packages/gffutils/interface.py\u001b[0m in \u001b[0;36mall_features\u001b[0;34m(self, limit, strand, featuretype, order_by, reverse, completely_within)\u001b[0m\n\u001b[1;32m    426\u001b[0m         )\n\u001b[1;32m    427\u001b[0m         \u001b[0;32mfor\u001b[0m \u001b[0mi\u001b[0m \u001b[0;32min\u001b[0m \u001b[0mself\u001b[0m\u001b[0;34m.\u001b[0m\u001b[0m_execute\u001b[0m\u001b[0;34m(\u001b[0m\u001b[0mquery\u001b[0m\u001b[0;34m,\u001b[0m \u001b[0margs\u001b[0m\u001b[0;34m)\u001b[0m\u001b[0;34m:\u001b[0m\u001b[0;34m\u001b[0m\u001b[0;34m\u001b[0m\u001b[0m\n\u001b[0;32m--> 428\u001b[0;31m             \u001b[0;32myield\u001b[0m \u001b[0mself\u001b[0m\u001b[0;34m.\u001b[0m\u001b[0m_feature_returner\u001b[0m\u001b[0;34m(\u001b[0m\u001b[0;34m**\u001b[0m\u001b[0mi\u001b[0m\u001b[0;34m)\u001b[0m\u001b[0;34m\u001b[0m\u001b[0;34m\u001b[0m\u001b[0m\n\u001b[0m\u001b[1;32m    429\u001b[0m \u001b[0;34m\u001b[0m\u001b[0m\n\u001b[1;32m    430\u001b[0m     \u001b[0;32mdef\u001b[0m \u001b[0mfeaturetypes\u001b[0m\u001b[0;34m(\u001b[0m\u001b[0mself\u001b[0m\u001b[0;34m)\u001b[0m\u001b[0;34m:\u001b[0m\u001b[0;34m\u001b[0m\u001b[0;34m\u001b[0m\u001b[0m\n",
      "\u001b[0;32m/usr/local/lib/python3.8/dist-packages/gffutils/interface.py\u001b[0m in \u001b[0;36m_feature_returner\u001b[0;34m(self, **kwargs)\u001b[0m\n\u001b[1;32m    255\u001b[0m         \u001b[0mkwargs\u001b[0m\u001b[0;34m.\u001b[0m\u001b[0msetdefault\u001b[0m\u001b[0;34m(\u001b[0m\u001b[0;34m\"keep_order\"\u001b[0m\u001b[0;34m,\u001b[0m \u001b[0mself\u001b[0m\u001b[0;34m.\u001b[0m\u001b[0mkeep_order\u001b[0m\u001b[0;34m)\u001b[0m\u001b[0;34m\u001b[0m\u001b[0;34m\u001b[0m\u001b[0m\n\u001b[1;32m    256\u001b[0m         \u001b[0mkwargs\u001b[0m\u001b[0;34m.\u001b[0m\u001b[0msetdefault\u001b[0m\u001b[0;34m(\u001b[0m\u001b[0;34m\"sort_attribute_values\"\u001b[0m\u001b[0;34m,\u001b[0m \u001b[0mself\u001b[0m\u001b[0;34m.\u001b[0m\u001b[0msort_attribute_values\u001b[0m\u001b[0;34m)\u001b[0m\u001b[0;34m\u001b[0m\u001b[0;34m\u001b[0m\u001b[0m\n\u001b[0;32m--> 257\u001b[0;31m         \u001b[0;32mreturn\u001b[0m \u001b[0mFeature\u001b[0m\u001b[0;34m(\u001b[0m\u001b[0;34m**\u001b[0m\u001b[0mkwargs\u001b[0m\u001b[0;34m)\u001b[0m\u001b[0;34m\u001b[0m\u001b[0;34m\u001b[0m\u001b[0m\n\u001b[0m\u001b[1;32m    258\u001b[0m \u001b[0;34m\u001b[0m\u001b[0m\n\u001b[1;32m    259\u001b[0m     \u001b[0;32mdef\u001b[0m \u001b[0m_analyzed\u001b[0m\u001b[0;34m(\u001b[0m\u001b[0mself\u001b[0m\u001b[0;34m)\u001b[0m\u001b[0;34m:\u001b[0m\u001b[0;34m\u001b[0m\u001b[0;34m\u001b[0m\u001b[0m\n",
      "\u001b[0;32m/usr/local/lib/python3.8/dist-packages/gffutils/feature.py\u001b[0m in \u001b[0;36m__init__\u001b[0;34m(self, seqid, source, featuretype, start, end, score, strand, frame, attributes, extra, bin, id, dialect, file_order, keep_order, sort_attribute_values)\u001b[0m\n\u001b[1;32m    169\u001b[0m         \u001b[0;32mif\u001b[0m \u001b[0misinstance\u001b[0m\u001b[0;34m(\u001b[0m\u001b[0mattributes\u001b[0m\u001b[0;34m,\u001b[0m \u001b[0msix\u001b[0m\u001b[0;34m.\u001b[0m\u001b[0mstring_types\u001b[0m\u001b[0;34m)\u001b[0m\u001b[0;34m:\u001b[0m\u001b[0;34m\u001b[0m\u001b[0;34m\u001b[0m\u001b[0m\n\u001b[1;32m    170\u001b[0m             \u001b[0;32mtry\u001b[0m\u001b[0;34m:\u001b[0m\u001b[0;34m\u001b[0m\u001b[0;34m\u001b[0m\u001b[0m\n\u001b[0;32m--> 171\u001b[0;31m                 \u001b[0mattributes\u001b[0m \u001b[0;34m=\u001b[0m \u001b[0mhelpers\u001b[0m\u001b[0;34m.\u001b[0m\u001b[0m_unjsonify\u001b[0m\u001b[0;34m(\u001b[0m\u001b[0mattributes\u001b[0m\u001b[0;34m,\u001b[0m \u001b[0misattributes\u001b[0m\u001b[0;34m=\u001b[0m\u001b[0;32mTrue\u001b[0m\u001b[0;34m)\u001b[0m\u001b[0;34m\u001b[0m\u001b[0;34m\u001b[0m\u001b[0m\n\u001b[0m\u001b[1;32m    172\u001b[0m \u001b[0;34m\u001b[0m\u001b[0m\n\u001b[1;32m    173\u001b[0m             \u001b[0;31m# it's a string but not JSON: assume original attributes string.\u001b[0m\u001b[0;34m\u001b[0m\u001b[0;34m\u001b[0m\u001b[0;34m\u001b[0m\u001b[0m\n",
      "\u001b[0;32m/usr/local/lib/python3.8/dist-packages/gffutils/helpers.py\u001b[0m in \u001b[0;36m_unjsonify\u001b[0;34m(x, isattributes)\u001b[0m\n\u001b[1;32m    321\u001b[0m     \u001b[0;32mif\u001b[0m \u001b[0misattributes\u001b[0m\u001b[0;34m:\u001b[0m\u001b[0;34m\u001b[0m\u001b[0;34m\u001b[0m\u001b[0m\n\u001b[1;32m    322\u001b[0m         \u001b[0mobj\u001b[0m \u001b[0;34m=\u001b[0m \u001b[0mjson\u001b[0m\u001b[0;34m.\u001b[0m\u001b[0mloads\u001b[0m\u001b[0;34m(\u001b[0m\u001b[0mx\u001b[0m\u001b[0;34m)\u001b[0m\u001b[0;34m\u001b[0m\u001b[0;34m\u001b[0m\u001b[0m\n\u001b[0;32m--> 323\u001b[0;31m         \u001b[0;32mreturn\u001b[0m \u001b[0mdict_class\u001b[0m\u001b[0;34m(\u001b[0m\u001b[0mobj\u001b[0m\u001b[0;34m)\u001b[0m\u001b[0;34m\u001b[0m\u001b[0;34m\u001b[0m\u001b[0m\n\u001b[0m\u001b[1;32m    324\u001b[0m     \u001b[0;32mreturn\u001b[0m \u001b[0mjson\u001b[0m\u001b[0;34m.\u001b[0m\u001b[0mloads\u001b[0m\u001b[0;34m(\u001b[0m\u001b[0mx\u001b[0m\u001b[0;34m)\u001b[0m\u001b[0;34m\u001b[0m\u001b[0;34m\u001b[0m\u001b[0m\n\u001b[1;32m    325\u001b[0m \u001b[0;34m\u001b[0m\u001b[0m\n",
      "\u001b[0;32m/usr/local/lib/python3.8/dist-packages/gffutils/attributes.py\u001b[0m in \u001b[0;36m__init__\u001b[0;34m(self, *args, **kwargs)\u001b[0m\n\u001b[1;32m     52\u001b[0m \u001b[0;34m\u001b[0m\u001b[0m\n\u001b[1;32m     53\u001b[0m         \"\"\"\n\u001b[0;32m---> 54\u001b[0;31m         \u001b[0mself\u001b[0m\u001b[0;34m.\u001b[0m\u001b[0m_d\u001b[0m \u001b[0;34m=\u001b[0m \u001b[0mdict\u001b[0m\u001b[0;34m(\u001b[0m\u001b[0;34m)\u001b[0m\u001b[0;34m\u001b[0m\u001b[0;34m\u001b[0m\u001b[0m\n\u001b[0m\u001b[1;32m     55\u001b[0m         \u001b[0mself\u001b[0m\u001b[0;34m.\u001b[0m\u001b[0mupdate\u001b[0m\u001b[0;34m(\u001b[0m\u001b[0;34m*\u001b[0m\u001b[0margs\u001b[0m\u001b[0;34m,\u001b[0m \u001b[0;34m**\u001b[0m\u001b[0mkwargs\u001b[0m\u001b[0;34m)\u001b[0m\u001b[0;34m\u001b[0m\u001b[0;34m\u001b[0m\u001b[0m\n\u001b[1;32m     56\u001b[0m \u001b[0;34m\u001b[0m\u001b[0m\n",
      "\u001b[0;31mKeyboardInterrupt\u001b[0m: "
     ]
    }
   ],
   "source": [
    "list(gene_db.all_features())"
   ]
  },
  {
   "cell_type": "code",
   "execution_count": 19,
   "id": "2f672398",
   "metadata": {},
   "outputs": [
    {
     "name": "stdout",
     "output_type": "stream",
     "text": [
      "8\tensembl_havana\ttranscript\t140531421\t140635546\t.\t-\t.\tgene_id \"ENSG00000123908\"; gene_version \"12\"; transcript_id \"ENST00000519980\"; transcript_version \"5\"; gene_name \"AGO2\"; gene_source \"ensembl_havana\"; gene_biotype \"protein_coding\"; transcript_name \"AGO2-205\"; transcript_source \"ensembl_havana\"; transcript_biotype \"protein_coding\"; tag \"CCDS,basic\"; ccds_id \"CCDS55279\"; transcript_support_level \"1\";\n"
     ]
    }
   ],
   "source": [
    "for ft in gene_db.all_features(featuretype=\"transcript\"):\n",
    "    if ft.attributes[\"transcript_id\"][0] == \"ENST00000519980\":\n",
    "        print(ft)\n",
    "# for exon in gene_db.region(start=11869, end=12227, featuretype=\"exon\"):\n",
    "#     print(exon)"
   ]
  },
  {
   "cell_type": "code",
   "execution_count": 34,
   "id": "17809b20",
   "metadata": {},
   "outputs": [
    {
     "ename": "FeatureNotFoundError",
     "evalue": "1",
     "output_type": "error",
     "traceback": [
      "\u001b[0;31m---------------------------------------------------------------------------\u001b[0m",
      "\u001b[0;31mFeatureNotFoundError\u001b[0m                      Traceback (most recent call last)",
      "\u001b[0;32m<ipython-input-34-a5f2489385c9>\u001b[0m in \u001b[0;36m<module>\u001b[0;34m\u001b[0m\n\u001b[0;32m----> 1\u001b[0;31m \u001b[0mgene_db\u001b[0m\u001b[0;34m[\u001b[0m\u001b[0;34m'1'\u001b[0m\u001b[0;34m]\u001b[0m\u001b[0;34m\u001b[0m\u001b[0;34m\u001b[0m\u001b[0m\n\u001b[0m",
      "\u001b[0;32m/usr/local/lib/python3.8/dist-packages/gffutils/interface.py\u001b[0m in \u001b[0;36m__getitem__\u001b[0;34m(self, key)\u001b[0m\n\u001b[1;32m    296\u001b[0m         \u001b[0;31m# TODO: raise error if more than one key is found\u001b[0m\u001b[0;34m\u001b[0m\u001b[0;34m\u001b[0m\u001b[0;34m\u001b[0m\u001b[0m\n\u001b[1;32m    297\u001b[0m         \u001b[0;32mif\u001b[0m \u001b[0mresults\u001b[0m \u001b[0;32mis\u001b[0m \u001b[0;32mNone\u001b[0m\u001b[0;34m:\u001b[0m\u001b[0;34m\u001b[0m\u001b[0;34m\u001b[0m\u001b[0m\n\u001b[0;32m--> 298\u001b[0;31m             \u001b[0;32mraise\u001b[0m \u001b[0mFeatureNotFoundError\u001b[0m\u001b[0;34m(\u001b[0m\u001b[0mkey\u001b[0m\u001b[0;34m)\u001b[0m\u001b[0;34m\u001b[0m\u001b[0;34m\u001b[0m\u001b[0m\n\u001b[0m\u001b[1;32m    299\u001b[0m         \u001b[0;32mreturn\u001b[0m \u001b[0mself\u001b[0m\u001b[0;34m.\u001b[0m\u001b[0m_feature_returner\u001b[0m\u001b[0;34m(\u001b[0m\u001b[0;34m**\u001b[0m\u001b[0mresults\u001b[0m\u001b[0;34m)\u001b[0m\u001b[0;34m\u001b[0m\u001b[0;34m\u001b[0m\u001b[0m\n\u001b[1;32m    300\u001b[0m \u001b[0;34m\u001b[0m\u001b[0m\n",
      "\u001b[0;31mFeatureNotFoundError\u001b[0m: 1"
     ]
    }
   ],
   "source": [
    "gene_db['1']"
   ]
  },
  {
   "cell_type": "code",
   "execution_count": 42,
   "id": "f7c3f4cf",
   "metadata": {},
   "outputs": [
    {
     "name": "stdout",
     "output_type": "stream",
     "text": [
      "('CDS_1',)\n"
     ]
    }
   ],
   "source": [
    "print(gene_db.execute(f'''\n",
    "    SELECT id FROM features\n",
    "''').fetchone()[:])"
   ]
  },
  {
   "cell_type": "code",
   "execution_count": 47,
   "id": "f0f5b3a7",
   "metadata": {},
   "outputs": [
    {
     "name": "stdout",
     "output_type": "stream",
     "text": [
      "ENSG00000186092\n"
     ]
    }
   ],
   "source": [
    "for pr in gene_db.parents(gene_db[\"CDS_1\"], featuretype=\"gene\"):\n",
    "    print(pr.id)"
   ]
  },
  {
   "cell_type": "code",
   "execution_count": 56,
   "id": "85e8452f",
   "metadata": {},
   "outputs": [
    {
     "name": "stdout",
     "output_type": "stream",
     "text": [
      "69055 70108\n"
     ]
    }
   ],
   "source": [
    "for ex in gene_db.children(gene_db[\"ENST00000335137\"], featuretype=\"exon\"):\n",
    "    print(ex.start, ex.end)"
   ]
  },
  {
   "cell_type": "code",
   "execution_count": 67,
   "id": "81c5c898",
   "metadata": {},
   "outputs": [
    {
     "name": "stdout",
     "output_type": "stream",
     "text": [
      "6\tensembl_havana\ttranscript\t154733325\t154834060\t.\t+\t.\tgene_id \"ENSG00000213079\"; gene_version \"9\"; transcript_id \"ENST00000367178\"; transcript_version \"7\"; gene_name \"SCAF8\"; gene_source \"ensembl_havana\"; gene_biotype \"protein_coding\"; transcript_name \"SCAF8-201\"; transcript_source \"ensembl_havana\"; transcript_biotype \"protein_coding\"; tag \"CCDS,basic\"; ccds_id \"CCDS5247\"; transcript_support_level \"2\";\n"
     ]
    }
   ],
   "source": [
    "print(gene_db[\"ENST00000367178\"])"
   ]
  },
  {
   "cell_type": "code",
   "execution_count": null,
   "id": "b47d2faa",
   "metadata": {},
   "outputs": [],
   "source": []
  }
 ],
 "metadata": {
  "kernelspec": {
   "display_name": "Python 3",
   "language": "python",
   "name": "python3"
  },
  "language_info": {
   "codemirror_mode": {
    "name": "ipython",
    "version": 3
   },
   "file_extension": ".py",
   "mimetype": "text/x-python",
   "name": "python",
   "nbconvert_exporter": "python",
   "pygments_lexer": "ipython3",
   "version": "3.8.9"
  }
 },
 "nbformat": 4,
 "nbformat_minor": 5
}
