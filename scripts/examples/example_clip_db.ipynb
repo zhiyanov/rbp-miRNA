{
 "cells": [
  {
   "cell_type": "code",
   "execution_count": 1,
   "id": "f4a836ef",
   "metadata": {},
   "outputs": [],
   "source": [
    "import json\n",
    "import pandas as pd\n",
    "import seaborn as sns\n",
    "import matplotlib.pyplot as plt"
   ]
  },
  {
   "cell_type": "code",
   "execution_count": 2,
   "id": "0dad3542",
   "metadata": {},
   "outputs": [],
   "source": [
    "PATH_TO_DATABASE = \"/home/dude/huge/dude/rbp-miRNA/clip/HepG2.json\"\n",
    "\n",
    "with open(PATH_TO_DATABASE) as fl:\n",
    "    gtf_clip_dct = json.load(fl)"
   ]
  },
  {
   "cell_type": "code",
   "execution_count": 3,
   "id": "f3ad1a52",
   "metadata": {},
   "outputs": [],
   "source": [
    "clip_positions = {\n",
    "    \"five_prime_utr\": 0,\n",
    "    \"three_prime_utr\": 0,\n",
    "    \"transcript\": 0,\n",
    "    \"CDS\": 0\n",
    "}\n",
    "\n",
    "for protein in gtf_clip_dct:\n",
    "    for position in gtf_clip_dct[protein]:\n",
    "        clip_positions[position] += len(gtf_clip_dct[protein][position])"
   ]
  },
  {
   "cell_type": "code",
   "execution_count": 4,
   "id": "f7ea08cc",
   "metadata": {},
   "outputs": [
    {
     "data": {
      "text/plain": [
       "{'five_prime_utr': 0, 'three_prime_utr': 1, 'transcript': 12, 'CDS': 0}"
      ]
     },
     "execution_count": 4,
     "metadata": {},
     "output_type": "execute_result"
    }
   ],
   "source": [
    "clip_positions"
   ]
  },
  {
   "cell_type": "code",
   "execution_count": 5,
   "id": "d1b75fd9",
   "metadata": {},
   "outputs": [
    {
     "data": {
      "text/html": [
       "<div>\n",
       "<style scoped>\n",
       "    .dataframe tbody tr th:only-of-type {\n",
       "        vertical-align: middle;\n",
       "    }\n",
       "\n",
       "    .dataframe tbody tr th {\n",
       "        vertical-align: top;\n",
       "    }\n",
       "\n",
       "    .dataframe thead th {\n",
       "        text-align: right;\n",
       "    }\n",
       "</style>\n",
       "<table border=\"1\" class=\"dataframe\">\n",
       "  <thead>\n",
       "    <tr style=\"text-align: right;\">\n",
       "      <th></th>\n",
       "      <th>protein</th>\n",
       "      <th>three_prime_utr</th>\n",
       "      <th>five_prime_utr</th>\n",
       "      <th>CDS</th>\n",
       "      <th>transcript</th>\n",
       "    </tr>\n",
       "  </thead>\n",
       "  <tbody>\n",
       "    <tr>\n",
       "      <th>0</th>\n",
       "      <td>KHSRP</td>\n",
       "      <td>0</td>\n",
       "      <td>0</td>\n",
       "      <td>0</td>\n",
       "      <td>5</td>\n",
       "    </tr>\n",
       "    <tr>\n",
       "      <th>1</th>\n",
       "      <td>KHSRP</td>\n",
       "      <td>0</td>\n",
       "      <td>0</td>\n",
       "      <td>0</td>\n",
       "      <td>5</td>\n",
       "    </tr>\n",
       "    <tr>\n",
       "      <th>2</th>\n",
       "      <td>HLTF</td>\n",
       "      <td>0</td>\n",
       "      <td>0</td>\n",
       "      <td>0</td>\n",
       "      <td>6</td>\n",
       "    </tr>\n",
       "    <tr>\n",
       "      <th>3</th>\n",
       "      <td>HLTF</td>\n",
       "      <td>0</td>\n",
       "      <td>0</td>\n",
       "      <td>0</td>\n",
       "      <td>6</td>\n",
       "    </tr>\n",
       "    <tr>\n",
       "      <th>4</th>\n",
       "      <td>DDX55</td>\n",
       "      <td>1</td>\n",
       "      <td>0</td>\n",
       "      <td>0</td>\n",
       "      <td>1</td>\n",
       "    </tr>\n",
       "  </tbody>\n",
       "</table>\n",
       "</div>"
      ],
      "text/plain": [
       "  protein  three_prime_utr  five_prime_utr  CDS  transcript\n",
       "0   KHSRP                0               0    0           5\n",
       "1   KHSRP                0               0    0           5\n",
       "2    HLTF                0               0    0           6\n",
       "3    HLTF                0               0    0           6\n",
       "4   DDX55                1               0    0           1"
      ]
     },
     "execution_count": 5,
     "metadata": {},
     "output_type": "execute_result"
    }
   ],
   "source": [
    "clip_table = []\n",
    "for protein in gtf_clip_dct:\n",
    "    for position in [\"three_prime_utr\", \"CDS\"]:\n",
    "        clip_table.append([\n",
    "            protein,\n",
    "            len(gtf_clip_dct[protein][\"three_prime_utr\"]),\n",
    "            len(gtf_clip_dct[protein][\"five_prime_utr\"]),\n",
    "            len(gtf_clip_dct[protein][\"CDS\"]),\n",
    "            len(gtf_clip_dct[protein][\"transcript\"]),\n",
    "        ])\n",
    "\n",
    "clip_table = pd.DataFrame(clip_table, columns=[\n",
    "    \"protein\",\n",
    "    \"three_prime_utr\",\n",
    "    \"five_prime_utr\",\n",
    "    \"CDS\",\n",
    "    \"transcript\"\n",
    "])\n",
    "\n",
    "clip_table.head()"
   ]
  },
  {
   "cell_type": "code",
   "execution_count": 6,
   "id": "bdae2697",
   "metadata": {},
   "outputs": [
    {
     "data": {
      "text/plain": [
       "<AxesSubplot:xlabel='CDS', ylabel='Count'>"
      ]
     },
     "execution_count": 6,
     "metadata": {},
     "output_type": "execute_result"
    },
    {
     "data": {
      "image/png": "[encoded data removed]",
      "text/plain": [
       "<Figure size 432x288 with 1 Axes>"
      ]
     },
     "metadata": {
      "needs_background": "light"
     },
     "output_type": "display_data"
    }
   ],
   "source": [
    "sns.histplot(clip_table[\"CDS\"])"
   ]
  },
  {
   "cell_type": "code",
   "execution_count": 7,
   "id": "f0e8a123",
   "metadata": {},
   "outputs": [
    {
     "data": {
      "text/plain": [
       "<AxesSubplot:xlabel='three_prime_utr', ylabel='Count'>"
      ]
     },
     "execution_count": 7,
     "metadata": {},
     "output_type": "execute_result"
    },
    {
     "data": {
      "image/png": "[encoded data removed]",
      "text/plain": [
       "<Figure size 432x288 with 1 Axes>"
      ]
     },
     "metadata": {
      "needs_background": "light"
     },
     "output_type": "display_data"
    }
   ],
   "source": [
    "sns.histplot(clip_table[\"three_prime_utr\"])"
   ]
  },
  {
   "cell_type": "code",
   "execution_count": 8,
   "id": "83dc0577",
   "metadata": {},
   "outputs": [
    {
     "data": {
      "text/plain": [
       "<AxesSubplot:xlabel='CDS', ylabel='three_prime_utr'>"
      ]
     },
     "execution_count": 8,
     "metadata": {},
     "output_type": "execute_result"
    },
    {
     "data": {
      "image/png": "[encoded data removed]",
      "text/plain": [
       "<Figure size 432x288 with 1 Axes>"
      ]
     },
     "metadata": {
      "needs_background": "light"
     },
     "output_type": "display_data"
    }
   ],
   "source": [
    "sns.scatterplot(\n",
    "    data=clip_table,\n",
    "    x=\"CDS\", y=\"three_prime_utr\",\n",
    "    size=\"transcript\", alpha=0.1)"
   ]
  },
  {
   "cell_type": "code",
   "execution_count": 9,
   "id": "f505cf6d",
   "metadata": {},
   "outputs": [
    {
     "name": "stdout",
     "output_type": "stream",
     "text": [
      "4\n",
      "0\n",
      "6\n"
     ]
    }
   ],
   "source": [
    "print(len(clip_table.loc[\n",
    "    (clip_table[\"three_prime_utr\"] == 0) & \\\n",
    "    (clip_table[\"five_prime_utr\"] == 0) & \\\n",
    "    (clip_table[\"CDS\"] == 0)\n",
    "]))\n",
    "print(len(clip_table.loc[\n",
    "    (clip_table[\"three_prime_utr\"] == 0) & \\\n",
    "    (clip_table[\"five_prime_utr\"] == 0) & \\\n",
    "    (clip_table[\"CDS\"] == 0) & \\\n",
    "    (clip_table[\"transcript\"] == 0)\n",
    "]))\n",
    "print(len(clip_table))"
   ]
  },
  {
   "cell_type": "code",
   "execution_count": 10,
   "id": "b086bb03",
   "metadata": {},
   "outputs": [
    {
     "name": "stdout",
     "output_type": "stream",
     "text": [
      "2\n",
      "0\n",
      "0\n"
     ]
    }
   ],
   "source": [
    "print(len(clip_table.loc[\n",
    "    (clip_table[\"three_prime_utr\"] != 0)\n",
    "]))\n",
    "print(len(clip_table.loc[\n",
    "    (clip_table[\"five_prime_utr\"] != 0)\n",
    "]))\n",
    "print(len(clip_table.loc[\n",
    "    (clip_table[\"CDS\"] != 0)\n",
    "]))"
   ]
  },
  {
   "cell_type": "code",
   "execution_count": 12,
   "id": "66c976a8",
   "metadata": {},
   "outputs": [],
   "source": [
    "gtf_clip_table = []\n",
    "for protein in gtf_clip_dct:\n",
    "    for peak in gtf_clip_dct[protein][\"CDS\"]:\n",
    "        if not peak in gtf_clipt_dct[protein][\"transcript\"]:\n",
    "            print(peak)\n",
    "        else:\n",
    "            print(\"1\")"
   ]
  },
  {
   "cell_type": "code",
   "execution_count": null,
   "id": "9f0539d5",
   "metadata": {},
   "outputs": [],
   "source": []
  }
 ],
 "metadata": {
  "kernelspec": {
   "display_name": "Python 3",
   "language": "python",
   "name": "python3"
  },
  "language_info": {
   "codemirror_mode": {
    "name": "ipython",
    "version": 3
   },
   "file_extension": ".py",
   "mimetype": "text/x-python",
   "name": "python",
   "nbconvert_exporter": "python",
   "pygments_lexer": "ipython3",
   "version": "3.8.9"
  }
 },
 "nbformat": 4,
 "nbformat_minor": 5
}
